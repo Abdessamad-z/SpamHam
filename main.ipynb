{
 "cells": [
  {
   "cell_type": "markdown",
   "source": [
    "**<a href=\"https://spamassassin.apache.org/old/publiccorpus/\">DataSet Repo</a>**"
   ],
   "metadata": {
    "collapsed": false,
    "pycharm": {
     "name": "#%% md\n"
    }
   }
  },
  {
   "cell_type": "code",
   "execution_count": 2,
   "outputs": [
    {
     "name": "stdout",
     "output_type": "stream",
     "text": [
      "From exmh-users-admin@redhat.com  Mon Sep 16 10:41:55 2002\n",
      "Return-Path: <exmh-users-admin@spamassassin.taint.org>\n",
      "Delivered-To: yyyy@localhost.spamassassin.taint.org\n",
      "Received: from localhost (jalapeno [127.0.0.1])\n",
      "\tby jmason.org (Postfix) with ESMTP id 6153916F03\n",
      "\tfor <jm@localhost>; Mon, 16 Sep 2002 10:41:54 +0100 (IST)\n",
      "Received: from jalapeno [127.0.0.1]\n",
      "\tby localhost with IMAP (fetchmail-5.9.0)\n",
      "\tfor jm@localhost (single-drop); Mon, 16 Sep 2002 10:41:54 +0100 (IST)\n",
      "Received: from listman.spamassassin.taint.org (listman.spamassassin.taint.org [66.187.233.211]) by\n",
      "    dogma.slashnull.org (8.11.6/8.11.6) with ESMTP id g8G5YtC14552 for\n",
      "    <jm-exmh@jmason.org>; Mon, 16 Sep 2002 06:34:56 +0100\n",
      "Received: from listman.spamassassin.taint.org (localhost.localdomain [127.0.0.1]) by\n",
      "    listman.redhat.com (Postfix) with ESMTP id E91E73EC79; Mon, 16 Sep 2002\n",
      "    01:34:25 -0400 (EDT)\n",
      "Delivered-To: exmh-users@listman.spamassassin.taint.org\n",
      "Received: from int-mx1.corp.spamassassin.taint.org (int-mx1.corp.spamassassin.taint.org\n",
      "    [172.16.52.254]) by listman.redhat.com (Postfix) with ESMTP id BDE7A3EA2C\n",
      "    for <exmh-users@listman.redhat.com>; Sun, 15 Sep 2002 16:29:07 -0400 (EDT)\n",
      "Received: (from mail@localhost) by int-mx1.corp.spamassassin.taint.org (8.11.6/8.11.6)\n",
      "    id g8FKT2r21372 for exmh-users@listman.redhat.com; Sun, 15 Sep 2002\n",
      "    16:29:02 -0400\n",
      "Received: from mx1.spamassassin.taint.org (mx1.spamassassin.taint.org [172.16.48.31]) by\n",
      "    int-mx1.corp.redhat.com (8.11.6/8.11.6) with SMTP id g8FKT2k21368 for\n",
      "    <exmh-users@redhat.com>; Sun, 15 Sep 2002 16:29:02 -0400\n",
      "Received: from postal2.es.net (postal2.es.net [198.128.3.206]) by\n",
      "    mx1.redhat.com (8.11.6/8.11.6) with SMTP id g8FKCAw30494 for\n",
      "    <exmh-users@redhat.com>; Sun, 15 Sep 2002 16:12:10 -0400\n",
      "Received: from ptavv.es.net ([198.128.4.29]) by postal2.es.net (Postal\n",
      "    Node 2) with ESMTP id GQF37091 for <exmh-users@redhat.com>; Sun,\n",
      "    15 Sep 2002 13:29:00 -0700\n",
      "Received: from ptavv (localhost [127.0.0.1]) by ptavv.es.net (Postfix)\n",
      "    with ESMTP id F294C5D04 for <exmh-users@redhat.com>; Sun, 15 Sep 2002\n",
      "    13:28:59 -0700 (PDT)\n",
      "To: exmh-users@spamassassin.taint.org\n",
      "Subject: Re: bad focus/click behaviours\n",
      "In-Reply-To: Your message of\n",
      "    \"Sat, 14 Sep 2002 13:20:58 +1000.\"\n",
      "    <200209140320.g8E3Kww29126@hobbit.linuxworks.com.au.nospam>\n",
      "From: \"Kevin Oberman\" <oberman@es.net>\n",
      "Message-Id: <20020915202900.F294C5D04@ptavv.es.net>\n",
      "X-Loop: exmh-users@spamassassin.taint.org\n",
      "Sender: exmh-users-admin@spamassassin.taint.org\n",
      "Errors-To: exmh-users-admin@spamassassin.taint.org\n",
      "X-Beenthere: exmh-users@spamassassin.taint.org\n",
      "X-Mailman-Version: 2.0.1\n",
      "Precedence: bulk\n",
      "Reply-To: exmh-users@spamassassin.taint.org\n",
      "List-Help: <mailto:exmh-users-request@spamassassin.taint.org?subject=help>\n",
      "List-Post: <mailto:exmh-users@spamassassin.taint.org>\n",
      "List-Subscribe: <https://listman.spamassassin.taint.org/mailman/listinfo/exmh-users>,\n",
      "    <mailto:exmh-users-request@redhat.com?subject=subscribe>\n",
      "List-Id: Discussion list for EXMH users <exmh-users.spamassassin.taint.org>\n",
      "List-Unsubscribe: <https://listman.spamassassin.taint.org/mailman/listinfo/exmh-users>,\n",
      "    <mailto:exmh-users-request@redhat.com?subject=unsubscribe>\n",
      "List-Archive: <https://listman.spamassassin.taint.org/mailman/private/exmh-users/>\n",
      "Date: Sun, 15 Sep 2002 13:28:59 -0700\n",
      "\n",
      "> From: Tony Nugent <tony@linuxworks.com.au>\n",
      "> Sender: exmh-users-admin@spamassassin.taint.org\n",
      "> Date: Sat, 14 Sep 2002 13:20:58 +1000\n",
      "> \n",
      "> On Fri Sep 13 2002 at 07:46, \"Kevin Oberman\" wrote:\n",
      "> \n",
      "> > > > What is an example of an \"anything else\" that it fails for for you?\n",
      "> > >\n",
      "> > > Everything else :)  I can't even mark text in an exmh message window\n",
      "> > > and then paste it into a terminal window, the cut buffer seems to be\n",
      "> > > completely empty (and its previous contents are no longer there\n",
      "> > > either).\n",
      "> \n",
      "> > (This is all guess work and may be bogus.)\n",
      "> > \n",
      "> > Are you running Gnome 1.4? I had similar problems as did several\n",
      "> > co-workers. Updating my Gnome components has fixed it for me and\n",
      "> > others, although I can't say exactly which component did the\n",
      "> > trick. Gnomecore or gtk would seem most likely, but it may have been\n",
      "> > something else.\n",
      "> \n",
      "> Indeed I am (this workstation is rh7.2 with gnome1.4, it [mostly?]\n",
      "> works, so I hadn't bothered to updated it to 7.3:)\n",
      "> \n",
      "> > In any case, I have not seen the problem for quite a while, now.\n",
      "> \n",
      "> So upgrading gnome will fix the problem, it's not an exmh/tktcl\n",
      "> issue.\n",
      "\n",
      "It did for me, but I am not willing to say it is not a tcl/tk issue as\n",
      "other apps seemed to work OK for cut and paste and Tk does its\n",
      "clipboard stuff a bit differently than most toolkits. So I'm not\n",
      "about to place blame. Just reporting my experience.\n",
      "\n",
      "Also, I am not talking about installing Gnome2. Just updating the\n",
      "many, many pieces of gnome to the current rev level.\n",
      "\n",
      "R. Kevin Oberman, Network Engineer\n",
      "Energy Sciences Network (ESnet)\n",
      "Ernest O. Lawrence Berkeley National Laboratory (Berkeley Lab)\n",
      "E-mail: oberman@es.net\t\t\tPhone: +1 510 486-8634\n",
      "\n",
      "\n",
      "\n",
      "_______________________________________________\n",
      "Exmh-users mailing list\n",
      "Exmh-users@redhat.com\n",
      "https://listman.redhat.com/mailman/listinfo/exmh-users\n",
      "\n",
      "\n",
      "\n"
     ]
    }
   ],
   "source": [
    "with open('dataset/easy_ham/01025.11e89c01b958ab83027b5ea3d508998a','r') as f:\n",
    "    mail = f.read()\n",
    "    print(mail)"
   ],
   "metadata": {
    "collapsed": false,
    "pycharm": {
     "name": "#%%\n"
    }
   }
  },
  {
   "cell_type": "code",
   "execution_count": 3,
   "outputs": [
    {
     "data": {
      "text/plain": "'From exmh-users-admin@redhat.com  Mon Sep 16 10:41:55 2002\\nReturn-Path: <exmh-users-admin@spamassassin.taint.org>\\nDelivered-To: yyyy@localhost.spamassassin.taint.org\\nReceived: from localhost (jalapeno [127.0.0.1])\\n\\tby jmason.org (Postfix) with ESMTP id 6153916F03\\n\\tfor <jm@localhost>; Mon, 16 Sep 2002 10:41:54 +0100 (IST)\\nReceived: from jalapeno [127.0.0.1]\\n\\tby localhost with IMAP (fetchmail-5.9.0)\\n\\tfor jm@localhost (single-drop); Mon, 16 Sep 2002 10:41:54 +0100 (IST)\\nReceived: from listman.spamassassin.taint.org (listman.spamassassin.taint.org [66.187.233.211]) by\\n    dogma.slashnull.org (8.11.6/8.11.6) with ESMTP id g8G5YtC14552 for\\n    <jm-exmh@jmason.org>; Mon, 16 Sep 2002 06:34:56 +0100\\nReceived: from listman.spamassassin.taint.org (localhost.localdomain [127.0.0.1]) by\\n    listman.redhat.com (Postfix) with ESMTP id E91E73EC79; Mon, 16 Sep 2002\\n    01:34:25 -0400 (EDT)\\nDelivered-To: exmh-users@listman.spamassassin.taint.org\\nReceived: from int-mx1.corp.spamassassin.taint.org (int-mx1.corp.spamassassin.taint.org\\n    [172.16.52.254]) by listman.redhat.com (Postfix) with ESMTP id BDE7A3EA2C\\n    for <exmh-users@listman.redhat.com>; Sun, 15 Sep 2002 16:29:07 -0400 (EDT)\\nReceived: (from mail@localhost) by int-mx1.corp.spamassassin.taint.org (8.11.6/8.11.6)\\n    id g8FKT2r21372 for exmh-users@listman.redhat.com; Sun, 15 Sep 2002\\n    16:29:02 -0400\\nReceived: from mx1.spamassassin.taint.org (mx1.spamassassin.taint.org [172.16.48.31]) by\\n    int-mx1.corp.redhat.com (8.11.6/8.11.6) with SMTP id g8FKT2k21368 for\\n    <exmh-users@redhat.com>; Sun, 15 Sep 2002 16:29:02 -0400\\nReceived: from postal2.es.net (postal2.es.net [198.128.3.206]) by\\n    mx1.redhat.com (8.11.6/8.11.6) with SMTP id g8FKCAw30494 for\\n    <exmh-users@redhat.com>; Sun, 15 Sep 2002 16:12:10 -0400\\nReceived: from ptavv.es.net ([198.128.4.29]) by postal2.es.net (Postal\\n    Node 2) with ESMTP id GQF37091 for <exmh-users@redhat.com>; Sun,\\n    15 Sep 2002 13:29:00 -0700\\nReceived: from ptavv (localhost [127.0.0.1]) by ptavv.es.net (Postfix)\\n    with ESMTP id F294C5D04 for <exmh-users@redhat.com>; Sun, 15 Sep 2002\\n    13:28:59 -0700 (PDT)\\nTo: exmh-users@spamassassin.taint.org\\nSubject: Re: bad focus/click behaviours\\nIn-Reply-To: Your message of\\n    \"Sat, 14 Sep 2002 13:20:58 +1000.\"\\n    <200209140320.g8E3Kww29126@hobbit.linuxworks.com.au.nospam>\\nFrom: \"Kevin Oberman\" <oberman@es.net>\\nMessage-Id: <20020915202900.F294C5D04@ptavv.es.net>\\nX-Loop: exmh-users@spamassassin.taint.org\\nSender: exmh-users-admin@spamassassin.taint.org\\nErrors-To: exmh-users-admin@spamassassin.taint.org\\nX-Beenthere: exmh-users@spamassassin.taint.org\\nX-Mailman-Version: 2.0.1\\nPrecedence: bulk\\nReply-To: exmh-users@spamassassin.taint.org\\nList-Help: <mailto:exmh-users-request@spamassassin.taint.org?subject=help>\\nList-Post: <mailto:exmh-users@spamassassin.taint.org>\\nList-Subscribe: <https://listman.spamassassin.taint.org/mailman/listinfo/exmh-users>,\\n    <mailto:exmh-users-request@redhat.com?subject=subscribe>\\nList-Id: Discussion list for EXMH users <exmh-users.spamassassin.taint.org>\\nList-Unsubscribe: <https://listman.spamassassin.taint.org/mailman/listinfo/exmh-users>,\\n    <mailto:exmh-users-request@redhat.com?subject=unsubscribe>\\nList-Archive: <https://listman.spamassassin.taint.org/mailman/private/exmh-users/>\\nDate: Sun, 15 Sep 2002 13:28:59 -0700\\n\\n> From: Tony Nugent <tony@linuxworks.com.au>\\n> Sender: exmh-users-admin@spamassassin.taint.org\\n> Date: Sat, 14 Sep 2002 13:20:58 +1000\\n> \\n> On Fri Sep 13 2002 at 07:46, \"Kevin Oberman\" wrote:\\n> \\n> > > > What is an example of an \"anything else\" that it fails for for you?\\n> > >\\n> > > Everything else :)  I can\\'t even mark text in an exmh message window\\n> > > and then paste it into a terminal window, the cut buffer seems to be\\n> > > completely empty (and its previous contents are no longer there\\n> > > either).\\n> \\n> > (This is all guess work and may be bogus.)\\n> > \\n> > Are you running Gnome 1.4? I had similar problems as did several\\n> > co-workers. Updating my Gnome components has fixed it for me and\\n> > others, although I can\\'t say exactly which component did the\\n> > trick. Gnomecore or gtk would seem most likely, but it may have been\\n> > something else.\\n> \\n> Indeed I am (this workstation is rh7.2 with gnome1.4, it [mostly?]\\n> works, so I hadn\\'t bothered to updated it to 7.3:)\\n> \\n> > In any case, I have not seen the problem for quite a while, now.\\n> \\n> So upgrading gnome will fix the problem, it\\'s not an exmh/tktcl\\n> issue.\\n\\nIt did for me, but I am not willing to say it is not a tcl/tk issue as\\nother apps seemed to work OK for cut and paste and Tk does its\\nclipboard stuff a bit differently than most toolkits. So I\\'m not\\nabout to place blame. Just reporting my experience.\\n\\nAlso, I am not talking about installing Gnome2. Just updating the\\nmany, many pieces of gnome to the current rev level.\\n\\nR. Kevin Oberman, Network Engineer\\nEnergy Sciences Network (ESnet)\\nErnest O. Lawrence Berkeley National Laboratory (Berkeley Lab)\\nE-mail: oberman@es.net\\t\\t\\tPhone: +1 510 486-8634\\n\\n\\n\\n_______________________________________________\\nExmh-users mailing list\\nExmh-users@redhat.com\\nhttps://listman.redhat.com/mailman/listinfo/exmh-users\\n\\n\\n'"
     },
     "execution_count": 3,
     "metadata": {},
     "output_type": "execute_result"
    }
   ],
   "source": [
    "mail"
   ],
   "metadata": {
    "collapsed": false,
    "pycharm": {
     "name": "#%%\n"
    }
   }
  },
  {
   "cell_type": "code",
   "execution_count": 7,
   "outputs": [],
   "source": [
    "import os\n",
    "import pandas as pd\n",
    "df=pd.DataFrame(columns=[\"mail\",\"spam\"])\n",
    "df[\"spam\"] = df[\"spam\"].astype('bool')"
   ],
   "metadata": {
    "collapsed": false,
    "pycharm": {
     "name": "#%%\n"
    }
   }
  },
  {
   "cell_type": "code",
   "execution_count": 3,
   "outputs": [],
   "source": [
    "def fill_df(df,path,spam):\n",
    "    copy=df.copy()\n",
    "    for filename in os.listdir(path):\n",
    "        if filename==\"cmds\":\n",
    "            continue\n",
    "        f = os.path.join(path, filename)\n",
    "        with open(f,'r',encoding='cp1252') as file:\n",
    "            try:\n",
    "                mail = file.read()\n",
    "                copy=copy.append({'mail':mail,\"spam\":spam},ignore_index=True)\n",
    "            except:\n",
    "                print(f\"Error in file: {filename} in dir: {path}\")\n",
    "    return copy"
   ],
   "metadata": {
    "collapsed": false,
    "pycharm": {
     "name": "#%%\n"
    }
   }
  },
  {
   "cell_type": "code",
   "execution_count": 8,
   "outputs": [],
   "source": [
    "for path in \"dataset/easy_ham\",\"dataset/easy_ham_2/\",\"dataset/hard_ham/\":\n",
    "    df=fill_df(df,path,0)"
   ],
   "metadata": {
    "collapsed": false,
    "pycharm": {
     "name": "#%%\n"
    }
   }
  },
  {
   "cell_type": "code",
   "execution_count": 9,
   "outputs": [
    {
     "name": "stdout",
     "output_type": "stream",
     "text": [
      "Error in file: 00116.29e39a0064e2714681726ac28ff3fdef in dir: dataset/spam/\n",
      "Error in file: 00263.13fc73e09ae15e0023bdb13d0a010f2d in dir: dataset/spam/\n",
      "Error in file: 00320.20dcbb5b047b8e2f212ee78267ee27ad in dir: dataset/spam/\n",
      "Error in file: 00323.9e36bf05304c99f2133a4c03c49533a9 in dir: dataset/spam/\n",
      "Error in file: 00324.6f320a8c6b5f8e4bc47d475b3d4e86ef in dir: dataset/spam/\n",
      "Error in file: 00500.85b72f09f6778a085dc8b6821965a76f in dir: dataset/spam/\n",
      "Error in file: 01065.9ecef01b01ca912fa35453196b4dae4c in dir: dataset/spam_2/\n",
      "Error in file: 01227.04a4f94c7a73b29cb56bf38c7d526116 in dir: dataset/spam_2/\n",
      "Error in file: 01376.73e738e4cd8121ce3dfb42d190b193c9 in dir: dataset/spam_2/\n"
     ]
    }
   ],
   "source": [
    "for path in \"dataset/spam/\",\"dataset/spam_2/\":\n",
    "    df=fill_df(df,path,1)"
   ],
   "metadata": {
    "collapsed": false,
    "pycharm": {
     "name": "#%%\n"
    }
   }
  },
  {
   "cell_type": "code",
   "execution_count": 10,
   "outputs": [
    {
     "data": {
      "text/plain": "(6037, 2)"
     },
     "execution_count": 10,
     "metadata": {},
     "output_type": "execute_result"
    }
   ],
   "source": [
    "df.shape"
   ],
   "metadata": {
    "collapsed": false,
    "pycharm": {
     "name": "#%%\n"
    }
   }
  },
  {
   "cell_type": "code",
   "execution_count": 11,
   "outputs": [
    {
     "data": {
      "text/plain": "                                                   mail  spam\n0     From exmh-workers-admin@redhat.com  Thu Aug 22...     0\n1     From Steve_Burt@cursor-system.com  Thu Aug 22 ...     0\n2     From timc@2ubh.com  Thu Aug 22 13:52:59 2002\\n...     0\n3     From irregulars-admin@tb.tf  Thu Aug 22 14:23:...     0\n4     From Stewart.Smith@ee.ed.ac.uk  Thu Aug 22 14:...     0\n...                                                 ...   ...\n6032  From Professional_Career_Development_Institute...     1\n6033  From tba@insiq.us  Wed Dec  4 11:46:34 2002\\nR...     1\n6034  Return-Path: <raye@yahoo.lv>\\nReceived: from u...     1\n6035  From cweqx@dialix.oz.au  Tue Aug  6 11:03:54 2...     1\n6036  From ilug-admin@linux.ie  Wed Dec  4 11:52:36 ...     1\n\n[6037 rows x 2 columns]",
      "text/html": "<div>\n<style scoped>\n    .dataframe tbody tr th:only-of-type {\n        vertical-align: middle;\n    }\n\n    .dataframe tbody tr th {\n        vertical-align: top;\n    }\n\n    .dataframe thead th {\n        text-align: right;\n    }\n</style>\n<table border=\"1\" class=\"dataframe\">\n  <thead>\n    <tr style=\"text-align: right;\">\n      <th></th>\n      <th>mail</th>\n      <th>spam</th>\n    </tr>\n  </thead>\n  <tbody>\n    <tr>\n      <th>0</th>\n      <td>From exmh-workers-admin@redhat.com  Thu Aug 22...</td>\n      <td>0</td>\n    </tr>\n    <tr>\n      <th>1</th>\n      <td>From Steve_Burt@cursor-system.com  Thu Aug 22 ...</td>\n      <td>0</td>\n    </tr>\n    <tr>\n      <th>2</th>\n      <td>From timc@2ubh.com  Thu Aug 22 13:52:59 2002\\n...</td>\n      <td>0</td>\n    </tr>\n    <tr>\n      <th>3</th>\n      <td>From irregulars-admin@tb.tf  Thu Aug 22 14:23:...</td>\n      <td>0</td>\n    </tr>\n    <tr>\n      <th>4</th>\n      <td>From Stewart.Smith@ee.ed.ac.uk  Thu Aug 22 14:...</td>\n      <td>0</td>\n    </tr>\n    <tr>\n      <th>...</th>\n      <td>...</td>\n      <td>...</td>\n    </tr>\n    <tr>\n      <th>6032</th>\n      <td>From Professional_Career_Development_Institute...</td>\n      <td>1</td>\n    </tr>\n    <tr>\n      <th>6033</th>\n      <td>From tba@insiq.us  Wed Dec  4 11:46:34 2002\\nR...</td>\n      <td>1</td>\n    </tr>\n    <tr>\n      <th>6034</th>\n      <td>Return-Path: &lt;raye@yahoo.lv&gt;\\nReceived: from u...</td>\n      <td>1</td>\n    </tr>\n    <tr>\n      <th>6035</th>\n      <td>From cweqx@dialix.oz.au  Tue Aug  6 11:03:54 2...</td>\n      <td>1</td>\n    </tr>\n    <tr>\n      <th>6036</th>\n      <td>From ilug-admin@linux.ie  Wed Dec  4 11:52:36 ...</td>\n      <td>1</td>\n    </tr>\n  </tbody>\n</table>\n<p>6037 rows × 2 columns</p>\n</div>"
     },
     "execution_count": 11,
     "metadata": {},
     "output_type": "execute_result"
    }
   ],
   "source": [
    "df"
   ],
   "metadata": {
    "collapsed": false,
    "pycharm": {
     "name": "#%%\n"
    }
   }
  },
  {
   "cell_type": "code",
   "execution_count": 10,
   "outputs": [],
   "source": [
    "t1=df[\"mail\"][5]"
   ],
   "metadata": {
    "collapsed": false,
    "pycharm": {
     "name": "#%%\n"
    }
   }
  },
  {
   "cell_type": "code",
   "execution_count": 11,
   "outputs": [
    {
     "data": {
      "text/plain": "'From martin@srv0.ems.ed.ac.uk  Thu Aug 22 14:54:39 2002\\nReturn-Path: <martin@srv0.ems.ed.ac.uk>\\nDelivered-To: zzzz@localhost.netnoteinc.com\\nReceived: from localhost (localhost [127.0.0.1])\\n\\tby phobos.labs.netnoteinc.com (Postfix) with ESMTP id 16FC743F99\\n\\tfor <zzzz@localhost>; Thu, 22 Aug 2002 09:54:38 -0400 (EDT)\\nReceived: from phobos [127.0.0.1]\\n\\tby localhost with IMAP (fetchmail-5.9.0)\\n\\tfor zzzz@localhost (single-drop); Thu, 22 Aug 2002 14:54:39 +0100 (IST)\\nReceived: from n14.grp.scd.yahoo.com (n14.grp.scd.yahoo.com\\n    [66.218.66.69]) by dogma.slashnull.org (8.11.6/8.11.6) with SMTP id\\n    g7MDoxZ08960 for <zzzz@spamassassin.taint.org>; Thu, 22 Aug 2002 14:50:59 +0100\\nX-Egroups-Return: sentto-2242572-52737-1030024261-zzzz=spamassassin.taint.org@returns.groups.yahoo.com\\nReceived: from [66.218.66.95] by n14.grp.scd.yahoo.com with NNFMP;\\n    22 Aug 2002 13:51:01 -0000\\nX-Sender: martin@srv0.ems.ed.ac.uk\\nX-Apparently-To: zzzzteana@yahoogroups.com\\nReceived: (EGP: mail-8_1_0_1); 22 Aug 2002 13:51:00 -0000\\nReceived: (qmail 71894 invoked from network); 22 Aug 2002 13:51:00 -0000\\nReceived: from unknown (66.218.66.218) by m7.grp.scd.yahoo.com with QMQP;\\n    22 Aug 2002 13:51:00 -0000\\nReceived: from unknown (HELO haymarket.ed.ac.uk) (129.215.128.53) by\\n    mta3.grp.scd.yahoo.com with SMTP; 22 Aug 2002 13:51:00 -0000\\nReceived: from srv0.ems.ed.ac.uk (srv0.ems.ed.ac.uk [129.215.117.0]) by\\n    haymarket.ed.ac.uk (8.11.6/8.11.6) with ESMTP id g7MDow310334 for\\n    <forteana@yahoogroups.com>; Thu, 22 Aug 2002 14:50:59 +0100 (BST)\\nReceived: from EMS-SRV0/SpoolDir by srv0.ems.ed.ac.uk (Mercury 1.44);\\n    22 Aug 02 14:50:58 +0000\\nReceived: from SpoolDir by EMS-SRV0 (Mercury 1.44); 22 Aug 02 14:50:31 +0000\\nOrganization: Management School\\nTo: zzzzteana@yahoogroups.com\\nMessage-Id: <3D64FA3C.13325.63A5960@localhost>\\nPriority: normal\\nIn-Reply-To: <3D64E94E.8060301@ee.ed.ac.uk>\\nX-Mailer: Pegasus Mail for Windows (v4.01)\\nContent-Description: Mail message body\\nFrom: \"Martin Adamson\" <martin@srv0.ems.ed.ac.uk>\\nMIME-Version: 1.0\\nMailing-List: list zzzzteana@yahoogroups.com; contact\\n    forteana-owner@yahoogroups.com\\nDelivered-To: mailing list zzzzteana@yahoogroups.com\\nPrecedence: bulk\\nList-Unsubscribe: <mailto:zzzzteana-unsubscribe@yahoogroups.com>\\nDate: Thu, 22 Aug 2002 14:50:31 +0100\\nSubject: Re: [zzzzteana] Nothing like mama used to make\\nReply-To: zzzzteana@yahoogroups.com\\nContent-Type: text/plain; charset=US-ASCII\\nContent-Transfer-Encoding: 7bit\\n\\n\\n> I just had to jump in here as Carbonara is one of my favourites to make and \\n> ask \\n> what the hell are you supposed to use instead of cream? \\n\\nIsn\\'t it just basically a mixture of beaten egg and bacon (or pancetta, \\nreally)? You mix in the raw egg to the cooked pasta and the heat of the pasta \\ncooks the egg. That\\'s my understanding.\\n\\nMartin\\n\\n------------------------ Yahoo! Groups Sponsor ---------------------~-->\\n4 DVDs Free +s&p Join Now\\nhttp://us.click.yahoo.com/pt6YBB/NXiEAA/mG3HAA/7gSolB/TM\\n---------------------------------------------------------------------~->\\n\\nTo unsubscribe from this group, send an email to:\\nforteana-unsubscribe@egroups.com\\n\\n \\n\\nYour use of Yahoo! Groups is subject to http://docs.yahoo.com/info/terms/ \\n\\n\\n\\n'"
     },
     "execution_count": 11,
     "metadata": {},
     "output_type": "execute_result"
    }
   ],
   "source": [
    "t1"
   ],
   "metadata": {
    "collapsed": false,
    "pycharm": {
     "name": "#%%\n"
    }
   }
  },
  {
   "cell_type": "code",
   "execution_count": 1,
   "outputs": [],
   "source": [
    "import nltk\n",
    "from nltk.corpus import stopwords\n",
    "import string"
   ],
   "metadata": {
    "collapsed": false,
    "pycharm": {
     "name": "#%%\n"
    }
   }
  },
  {
   "cell_type": "code",
   "execution_count": 13,
   "outputs": [],
   "source": [
    "df.drop_duplicates(inplace=True)"
   ],
   "metadata": {
    "collapsed": false,
    "pycharm": {
     "name": "#%%\n"
    }
   }
  },
  {
   "cell_type": "code",
   "execution_count": 17,
   "outputs": [
    {
     "data": {
      "text/plain": "mail    0\nspam    0\ndtype: int64"
     },
     "execution_count": 17,
     "metadata": {},
     "output_type": "execute_result"
    }
   ],
   "source": [
    "df.isnull().sum()"
   ],
   "metadata": {
    "collapsed": false,
    "pycharm": {
     "name": "#%%\n"
    }
   }
  },
  {
   "cell_type": "code",
   "execution_count": 18,
   "outputs": [
    {
     "name": "stderr",
     "output_type": "stream",
     "text": [
      "[nltk_data] Downloading package stopwords to\n",
      "[nltk_data]     C:\\Users\\timyo\\AppData\\Roaming\\nltk_data...\n",
      "[nltk_data]   Unzipping corpora\\stopwords.zip.\n"
     ]
    },
    {
     "data": {
      "text/plain": "True"
     },
     "execution_count": 18,
     "metadata": {},
     "output_type": "execute_result"
    }
   ],
   "source": [
    "nltk.download('stopwords')"
   ],
   "metadata": {
    "collapsed": false,
    "pycharm": {
     "name": "#%%\n"
    }
   }
  },
  {
   "cell_type": "code",
   "execution_count": 25,
   "outputs": [
    {
     "data": {
      "text/plain": "['i',\n 'me',\n 'my',\n 'myself',\n 'we',\n 'our',\n 'ours',\n 'ourselves',\n 'you',\n \"you're\",\n \"you've\",\n \"you'll\",\n \"you'd\",\n 'your',\n 'yours',\n 'yourself',\n 'yourselves',\n 'he',\n 'him',\n 'his',\n 'himself',\n 'she',\n \"she's\",\n 'her',\n 'hers',\n 'herself',\n 'it',\n \"it's\",\n 'its',\n 'itself',\n 'they',\n 'them',\n 'their',\n 'theirs',\n 'themselves',\n 'what',\n 'which',\n 'who',\n 'whom',\n 'this',\n 'that',\n \"that'll\",\n 'these',\n 'those',\n 'am',\n 'is',\n 'are',\n 'was',\n 'were',\n 'be',\n 'been',\n 'being',\n 'have',\n 'has',\n 'had',\n 'having',\n 'do',\n 'does',\n 'did',\n 'doing',\n 'a',\n 'an',\n 'the',\n 'and',\n 'but',\n 'if',\n 'or',\n 'because',\n 'as',\n 'until',\n 'while',\n 'of',\n 'at',\n 'by',\n 'for',\n 'with',\n 'about',\n 'against',\n 'between',\n 'into',\n 'through',\n 'during',\n 'before',\n 'after',\n 'above',\n 'below',\n 'to',\n 'from',\n 'up',\n 'down',\n 'in',\n 'out',\n 'on',\n 'off',\n 'over',\n 'under',\n 'again',\n 'further',\n 'then',\n 'once',\n 'here',\n 'there',\n 'when',\n 'where',\n 'why',\n 'how',\n 'all',\n 'any',\n 'both',\n 'each',\n 'few',\n 'more',\n 'most',\n 'other',\n 'some',\n 'such',\n 'no',\n 'nor',\n 'not',\n 'only',\n 'own',\n 'same',\n 'so',\n 'than',\n 'too',\n 'very',\n 's',\n 't',\n 'can',\n 'will',\n 'just',\n 'don',\n \"don't\",\n 'should',\n \"should've\",\n 'now',\n 'd',\n 'll',\n 'm',\n 'o',\n 're',\n 've',\n 'y',\n 'ain',\n 'aren',\n \"aren't\",\n 'couldn',\n \"couldn't\",\n 'didn',\n \"didn't\",\n 'doesn',\n \"doesn't\",\n 'hadn',\n \"hadn't\",\n 'hasn',\n \"hasn't\",\n 'haven',\n \"haven't\",\n 'isn',\n \"isn't\",\n 'ma',\n 'mightn',\n \"mightn't\",\n 'mustn',\n \"mustn't\",\n 'needn',\n \"needn't\",\n 'shan',\n \"shan't\",\n 'shouldn',\n \"shouldn't\",\n 'wasn',\n \"wasn't\",\n 'weren',\n \"weren't\",\n 'won',\n \"won't\",\n 'wouldn',\n \"wouldn't\"]"
     },
     "execution_count": 25,
     "metadata": {},
     "output_type": "execute_result"
    }
   ],
   "source": [
    "stopwords.words('english')"
   ],
   "metadata": {
    "collapsed": false,
    "pycharm": {
     "name": "#%%\n"
    }
   }
  },
  {
   "cell_type": "code",
   "execution_count": 27,
   "outputs": [],
   "source": [
    "def process_mail(mail):\n",
    "    # remove punctuation\n",
    "    nopunc=[char for char in mail if char not in string.punctuation]\n",
    "    nopunc=''.join(nopunc)\n",
    "    # remove stopwords\n",
    "    clean_words=[word for word in nopunc.split() if word.lower() not in stopwords.words('english')]\n",
    "    # return clean words\n",
    "    return clean_words"
   ],
   "metadata": {
    "collapsed": false,
    "pycharm": {
     "name": "#%%\n"
    }
   }
  },
  {
   "cell_type": "code",
   "execution_count": 28,
   "outputs": [
    {
     "data": {
      "text/plain": "['exmhworkersadminredhatcom',\n 'Thu',\n 'Aug',\n '22',\n '123623',\n '2002',\n 'ReturnPath',\n 'exmhworkersadminspamassassintaintorg',\n 'DeliveredTo',\n 'zzzzlocalhostnetnoteinccom',\n 'Received',\n 'localhost',\n 'localhost',\n '127001',\n 'phoboslabsnetnoteinccom',\n 'Postfix',\n 'ESMTP',\n 'id',\n 'D03E543C36',\n 'zzzzlocalhost',\n 'Thu',\n '22',\n 'Aug',\n '2002',\n '073616',\n '0400',\n 'EDT',\n 'Received',\n 'phobos',\n '127001',\n 'localhost',\n 'IMAP',\n 'fetchmail590',\n 'zzzzlocalhost',\n 'singledrop',\n 'Thu',\n '22',\n 'Aug',\n '2002',\n '123616',\n '0100',\n 'IST',\n 'Received',\n 'listmanspamassassintaintorg',\n 'listmanspamassassintaintorg',\n '66187233211',\n 'dogmaslashnullorg',\n '81168116',\n 'ESMTP',\n 'id',\n 'g7MBYrZ04811',\n 'zzzzexmhspamassassintaintorg',\n 'Thu',\n '22',\n 'Aug',\n '2002',\n '123453',\n '0100',\n 'Received',\n 'listmanspamassassintaintorg',\n 'localhostlocaldomain',\n '127001',\n 'listmanredhatcom',\n 'Postfix',\n 'ESMTP',\n 'id',\n '8386540858',\n 'Thu',\n '22',\n 'Aug',\n '2002',\n '073502',\n '0400',\n 'EDT',\n 'DeliveredTo',\n 'exmhworkerslistmanspamassassintaintorg',\n 'Received',\n 'intmx1corpspamassassintaintorg',\n 'intmx1corpspamassassintaintorg',\n '1721652254',\n 'listmanredhatcom',\n 'Postfix',\n 'ESMTP',\n 'id',\n '10CF8406D7',\n 'exmhworkerslistmanredhatcom',\n 'Thu',\n '22',\n 'Aug',\n '2002',\n '073410',\n '0400',\n 'EDT',\n 'Received',\n 'maillocalhost',\n 'intmx1corpspamassassintaintorg',\n '81168116',\n 'id',\n 'g7MBY7g11259',\n 'exmhworkerslistmanredhatcom',\n 'Thu',\n '22',\n 'Aug',\n '2002',\n '073407',\n '0400',\n 'Received',\n 'mx1spamassassintaintorg',\n 'mx1spamassassintaintorg',\n '172164831',\n 'intmx1corpredhatcom',\n '81168116',\n 'SMTP',\n 'id',\n 'g7MBY7Y11255',\n 'exmhworkersredhatcom',\n 'Thu',\n '22',\n 'Aug',\n '2002',\n '073407',\n '0400',\n 'Received',\n 'ratreepsuacth',\n '20228976',\n 'mx1spamassassintaintorg',\n '81168116',\n 'SMTP',\n 'id',\n 'g7MBIhl25223',\n 'exmhworkersredhatcom',\n 'Thu',\n '22',\n 'Aug',\n '2002',\n '071855',\n '0400',\n 'Received',\n 'deltacsmuOZAU',\n 'deltacoepsuacth',\n '17230098',\n 'ratreepsuacth',\n '81168116',\n 'ESMTP',\n 'id',\n 'g7MBWel29762',\n 'Thu',\n '22',\n 'Aug',\n '2002',\n '183240',\n '0700',\n 'ICT',\n 'Received',\n 'munnariOZAU',\n 'localhost',\n '127001',\n 'deltacsmuOZAU',\n '81168116',\n 'ESMTP',\n 'id',\n 'g7MBQPW13260',\n 'Thu',\n '22',\n 'Aug',\n '2002',\n '182625',\n '0700',\n 'ICT',\n 'Robert',\n 'Elz',\n 'kremunnariOZAU',\n 'Chris',\n 'Garrigues',\n 'cwgdated103037728706fa6dDeepEddyCom',\n 'Cc',\n 'exmhworkersspamassassintaintorg',\n 'Subject',\n 'New',\n 'Sequences',\n 'Window',\n 'InReplyTo',\n '10299452874797TMDAdeepeddyvirciocom',\n 'References',\n '10299452874797TMDAdeepeddyvirciocom',\n '10298824683116TMDAdeepeddyvirciocom',\n '96271029933001munnariOZAU',\n '102994306626919TMDAdeepeddyvirciocom',\n '1029944441398TMDAdeepeddyvirciocom',\n 'MIMEVersion',\n '10',\n 'ContentType',\n 'textplain',\n 'charsetusascii',\n 'MessageId',\n '132581030015585munnariOZAU',\n 'XLoop',\n 'exmhworkersspamassassintaintorg',\n 'Sender',\n 'exmhworkersadminspamassassintaintorg',\n 'ErrorsTo',\n 'exmhworkersadminspamassassintaintorg',\n 'XBeenthere',\n 'exmhworkersspamassassintaintorg',\n 'XMailmanVersion',\n '201',\n 'Precedence',\n 'bulk',\n 'ListHelp',\n 'mailtoexmhworkersrequestspamassassintaintorgsubjecthelp',\n 'ListPost',\n 'mailtoexmhworkersspamassassintaintorg',\n 'ListSubscribe',\n 'httpslistmanspamassassintaintorgmailmanlistinfoexmhworkers',\n 'mailtoexmhworkersrequestredhatcomsubjectsubscribe',\n 'ListId',\n 'Discussion',\n 'list',\n 'EXMH',\n 'developers',\n 'exmhworkersspamassassintaintorg',\n 'ListUnsubscribe',\n 'httpslistmanspamassassintaintorgmailmanlistinfoexmhworkers',\n 'mailtoexmhworkersrequestredhatcomsubjectunsubscribe',\n 'ListArchive',\n 'httpslistmanspamassassintaintorgmailmanprivateexmhworkers',\n 'Date',\n 'Thu',\n '22',\n 'Aug',\n '2002',\n '182625',\n '0700',\n 'Date',\n 'Wed',\n '21',\n 'Aug',\n '2002',\n '105446',\n '0500',\n 'Chris',\n 'Garrigues',\n 'cwgdated103037728706fa6dDeepEddyCom',\n 'MessageID',\n '10299452874797TMDAdeepeddyvirciocom',\n 'cant',\n 'reproduce',\n 'error',\n 'repeatable',\n 'like',\n 'every',\n 'time',\n 'without',\n 'fail',\n 'debug',\n 'log',\n 'pick',\n 'happening',\n '181903',\n 'PickIt',\n 'exec',\n 'pick',\n 'inbox',\n 'list',\n 'lbrace',\n 'lbrace',\n 'subject',\n 'ftp',\n 'rbrace',\n 'rbrace',\n '48524852',\n 'sequence',\n 'mercury',\n '181903',\n 'exec',\n 'pick',\n 'inbox',\n 'list',\n 'lbrace',\n 'lbrace',\n 'subject',\n 'ftp',\n 'rbrace',\n 'rbrace',\n '48524852',\n 'sequence',\n 'mercury',\n '181904',\n 'FtocPickMsgs',\n '1',\n 'hit',\n '181904',\n 'Marking',\n '1',\n 'hits',\n '181904',\n 'tkerror',\n 'syntax',\n 'error',\n 'expression',\n 'int',\n 'Note',\n 'run',\n 'pick',\n 'command',\n 'hand',\n 'delta',\n 'pick',\n 'inbox',\n 'list',\n 'lbrace',\n 'lbrace',\n 'subject',\n 'ftp',\n 'rbrace',\n 'rbrace',\n '48524852',\n 'sequence',\n 'mercury',\n '1',\n 'hit',\n 'Thats',\n '1',\n 'hit',\n 'comes',\n 'obviously',\n 'version',\n 'nmh',\n 'Im',\n 'using',\n 'delta',\n 'pick',\n 'version',\n 'pick',\n 'nmh104',\n 'compiled',\n 'fuchsiacsmuOZAU',\n 'Sun',\n 'Mar',\n '17',\n '145556',\n 'ICT',\n '2002',\n 'relevant',\n 'part',\n 'mhprofile',\n 'delta',\n 'mhparam',\n 'pick',\n 'seq',\n 'sel',\n 'list',\n 'Since',\n 'pick',\n 'command',\n 'works',\n 'sequence',\n 'actually',\n 'one',\n 'thats',\n 'explicit',\n 'command',\n 'line',\n 'search',\n 'popup',\n 'one',\n 'comes',\n 'mhprofile',\n 'get',\n 'created',\n 'kre',\n 'ps',\n 'still',\n 'using',\n 'version',\n 'code',\n 'form',\n 'day',\n 'ago',\n 'havent',\n 'able',\n 'reach',\n 'cvs',\n 'repository',\n 'today',\n 'local',\n 'routing',\n 'issue',\n 'think',\n 'Exmhworkers',\n 'mailing',\n 'list',\n 'Exmhworkersredhatcom',\n 'httpslistmanredhatcommailmanlistinfoexmhworkers']"
     },
     "execution_count": 28,
     "metadata": {},
     "output_type": "execute_result"
    }
   ],
   "source": [
    "process_mail(df[\"mail\"][0])"
   ],
   "metadata": {
    "collapsed": false,
    "pycharm": {
     "name": "#%%\n"
    }
   }
  },
  {
   "cell_type": "code",
   "execution_count": 38,
   "outputs": [
    {
     "data": {
      "text/plain": "0    [exmhworkersadminredhatcom, Thu, Aug, 22, 1236...\n1    [SteveBurtcursorsystemcom, Thu, Aug, 22, 12463...\n2    [timc2ubhcom, Thu, Aug, 22, 135259, 2002, Retu...\n3    [irregularsadmintbtf, Thu, Aug, 22, 142339, 20...\n4    [StewartSmitheeedacuk, Thu, Aug, 22, 144426, 2...\nName: mail, dtype: object"
     },
     "execution_count": 38,
     "metadata": {},
     "output_type": "execute_result"
    }
   ],
   "source": [
    "df.head()[\"mail\"].apply(process_mail)"
   ],
   "metadata": {
    "collapsed": false,
    "pycharm": {
     "name": "#%%\n"
    }
   }
  },
  {
   "cell_type": "code",
   "execution_count": 37,
   "outputs": [],
   "source": [
    "from sklearn.feature_extraction.text import CountVectorizer\n",
    "email_bow=CountVectorizer(analyzer=process_mail).fit_transform(df[\"mail\"])"
   ],
   "metadata": {
    "collapsed": false,
    "pycharm": {
     "name": "#%%\n"
    }
   }
  },
  {
   "cell_type": "code",
   "execution_count": 40,
   "outputs": [
    {
     "data": {
      "text/plain": "(6037, 258412)"
     },
     "execution_count": 40,
     "metadata": {},
     "output_type": "execute_result"
    }
   ],
   "source": [
    "email_bow.shape"
   ],
   "metadata": {
    "collapsed": false,
    "pycharm": {
     "name": "#%%\n"
    }
   }
  },
  {
   "cell_type": "code",
   "execution_count": 41,
   "outputs": [],
   "source": [
    "from sklearn.model_selection import train_test_split\n",
    "X_train,X_test,y_train,y_test=train_test_split(email_bow,df['spam'],test_size=0.2,random_state=31)"
   ],
   "metadata": {
    "collapsed": false,
    "pycharm": {
     "name": "#%%\n"
    }
   }
  },
  {
   "cell_type": "code",
   "execution_count": 42,
   "outputs": [],
   "source": [
    "from sklearn.naive_bayes import MultinomialNB\n",
    "classifier=MultinomialNB().fit(X_train,y_train)"
   ],
   "metadata": {
    "collapsed": false,
    "pycharm": {
     "name": "#%%\n"
    }
   }
  },
  {
   "cell_type": "code",
   "execution_count": 43,
   "outputs": [
    {
     "data": {
      "text/plain": "'              precision    recall  f1-score   support\\n\\n           0       0.97      0.99      0.98       821\\n           1       0.98      0.95      0.96       387\\n\\n    accuracy                           0.98      1208\\n   macro avg       0.98      0.97      0.97      1208\\nweighted avg       0.98      0.98      0.98      1208\\n'"
     },
     "execution_count": 43,
     "metadata": {},
     "output_type": "execute_result"
    }
   ],
   "source": [
    "from sklearn.metrics import classification_report,confusion_matrix,accuracy_score\n",
    "pred=classifier.predict(X_test)\n"
   ],
   "metadata": {
    "collapsed": false,
    "pycharm": {
     "name": "#%%\n"
    }
   }
  },
  {
   "cell_type": "code",
   "execution_count": 44,
   "outputs": [
    {
     "name": "stdout",
     "output_type": "stream",
     "text": [
      "              precision    recall  f1-score   support\n",
      "\n",
      "           0       0.97      0.99      0.98       821\n",
      "           1       0.98      0.95      0.96       387\n",
      "\n",
      "    accuracy                           0.98      1208\n",
      "   macro avg       0.98      0.97      0.97      1208\n",
      "weighted avg       0.98      0.98      0.98      1208\n",
      "\n"
     ]
    }
   ],
   "source": [
    "print(classification_report(y_test,pred))"
   ],
   "metadata": {
    "collapsed": false,
    "pycharm": {
     "name": "#%%\n"
    }
   }
  },
  {
   "cell_type": "code",
   "execution_count": 45,
   "outputs": [
    {
     "name": "stdout",
     "output_type": "stream",
     "text": [
      "[[813   8]\n",
      " [ 21 366]]\n"
     ]
    }
   ],
   "source": [
    "print(confusion_matrix(y_test,pred))"
   ],
   "metadata": {
    "collapsed": false,
    "pycharm": {
     "name": "#%%\n"
    }
   }
  },
  {
   "cell_type": "code",
   "execution_count": null,
   "outputs": [],
   "source": [],
   "metadata": {
    "collapsed": false,
    "pycharm": {
     "name": "#%%\n"
    }
   }
  }
 ],
 "metadata": {
  "kernelspec": {
   "display_name": "Python 3",
   "language": "python",
   "name": "python3"
  },
  "language_info": {
   "codemirror_mode": {
    "name": "ipython",
    "version": 2
   },
   "file_extension": ".py",
   "mimetype": "text/x-python",
   "name": "python",
   "nbconvert_exporter": "python",
   "pygments_lexer": "ipython2",
   "version": "2.7.6"
  }
 },
 "nbformat": 4,
 "nbformat_minor": 0
}